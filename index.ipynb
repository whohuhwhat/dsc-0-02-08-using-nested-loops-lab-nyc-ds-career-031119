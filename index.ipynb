{
 "cells": [
  {
   "cell_type": "markdown",
   "metadata": {},
   "source": [
    "# Using Nested Loops - Lab"
   ]
  },
  {
   "cell_type": "markdown",
   "metadata": {},
   "source": [
    "## Introduction\n",
    "In this lab, we will practice using nested loops to iterate over nested data structures and create new collections. We'll be using data from a soccer match to practice our nested loops."
   ]
  },
  {
   "cell_type": "markdown",
   "metadata": {},
   "source": [
    "## Objectives\n",
    "You will be able to:\n",
    "* Combine different types of loops\n",
    "* Understand, explain and use nested loops to iterate through nested data structures"
   ]
  },
  {
   "cell_type": "markdown",
   "metadata": {},
   "source": [
    "## Instructions"
   ]
  },
  {
   "cell_type": "markdown",
   "metadata": {},
   "source": [
    "Use nested loops and the below object, `soccer_match`, to complete the following prompts and get the desired return values.\n",
    "\n",
    "Each object's structure is identical, but make sure to have a good idea of what that structure looks like before getting started. "
   ]
  },
  {
   "cell_type": "code",
   "execution_count": 1,
   "metadata": {},
   "outputs": [],
   "source": [
    "soccer_match = [\n",
    "  { \"home_team\": True,\n",
    "    \"away_team\": False,\n",
    "    \"country\": \"France\",\n",
    "    \"num_passes\": 484,\n",
    "    \"passes_completed\": 423,\n",
    "    \"fouls_committed\": 16,\n",
    "    \"colors\": [\"blue\", \"white\", \"red\"],\n",
    "    \"players\": [\n",
    "      {\n",
    "        \"name\": \"Hugo LLORIS\",\n",
    "        \"captain\": True,\n",
    "        \"shirt_number\": 1,\n",
    "        \"position\": \"Goalie\"\n",
    "      },\n",
    "      {\n",
    "        \"name\": \"Benjamin PAVARD\",\n",
    "        \"captain\": False,\n",
    "        \"shirt_number\": 2,\n",
    "        \"position\": \"Defender\"\n",
    "      },\n",
    "      {\n",
    "        \"name\": \"Raphael VARANE\",\n",
    "        \"captain\": False,\n",
    "        \"shirt_number\": 4,\n",
    "        \"position\": \"Defender\"\n",
    "      },\n",
    "      {\n",
    "        \"name\": \"Samuel UMTITI\",\n",
    "        \"captain\": False,\n",
    "        \"shirt_number\": 5,\n",
    "        \"position\": \"Defender\"\n",
    "      },\n",
    "      {\n",
    "        \"name\": \"Paul POGBA\",\n",
    "        \"captain\": False,\n",
    "        \"shirt_number\": 6,\n",
    "        \"position\": \"Midfield\"\n",
    "      },\n",
    "      {\n",
    "        \"name\": \"Antoine GRIEZMANN\",\n",
    "        \"captain\": False,\n",
    "        \"shirt_number\": 7,\n",
    "        \"position\": \"Forward\"\n",
    "      },\n",
    "      {\n",
    "        \"name\": \"Kylian MBAPPE\",\n",
    "        \"captain\": False,\n",
    "        \"shirt_number\": 10,\n",
    "        \"position\": \"Forward\"\n",
    "      },\n",
    "      {\n",
    "        \"name\": \"Ousmane DEMBELE\",\n",
    "        \"captain\": False,\n",
    "        \"shirt_number\": 11,\n",
    "        \"position\": \"Forward\"\n",
    "      },\n",
    "      {\n",
    "        \"name\": \"Corentin TOLISSO\",\n",
    "        \"captain\": False,\n",
    "        \"shirt_number\": 12,\n",
    "        \"position\": \"Midfield\"\n",
    "      },\n",
    "      {\n",
    "        \"name\": \"Ngolo KANTE\",\n",
    "        \"captain\": False,\n",
    "        \"shirt_number\": 13,\n",
    "        \"position\": \"Midfield\"\n",
    "      },\n",
    "      {\n",
    "        \"name\": \"Lucas HERNANDEZ\",\n",
    "        \"captain\": False,\n",
    "        \"shirt_number\": 21,\n",
    "        \"position\": \"Defender\"\n",
    "      }\n",
    "    ],\n",
    "  },\n",
    "  { \"home_team\": False,\n",
    "    \"away_team\": True,\n",
    "    \"country\": \"Australia\",\n",
    "    \"num_passes\": 390,\n",
    "    \"passes_completed\": 332,\n",
    "    \"fouls_committed\": 19,\n",
    "    \"colors\": [\"green\", \"gold\"],\n",
    "    \"players\": [\n",
    "      {\n",
    "        \"name\": \"Mathew RYAN\",\n",
    "        \"captain\": False,\n",
    "        \"shirt_number\": 1,\n",
    "        \"position\": \"Goalie\"\n",
    "      },\n",
    "      {\n",
    "        \"name\": \"Mark MILLIGAN\",\n",
    "        \"captain\": False,\n",
    "        \"shirt_number\": 5,\n",
    "        \"position\": \"Defender\"\n",
    "      },\n",
    "      {\n",
    "        \"name\": \"Mathew LECKIE\",\n",
    "        \"captain\": False,\n",
    "        \"shirt_number\": 7,\n",
    "        \"position\": \"Forward\"\n",
    "      },\n",
    "      {\n",
    "        \"name\": \"Robbie KRUSE\",\n",
    "        \"captain\": False,\n",
    "        \"shirt_number\": 10,\n",
    "        \"position\": \"Forward\"\n",
    "      },\n",
    "      {\n",
    "        \"name\": \"Andrew NABBOUT\",\n",
    "        \"captain\": False,\n",
    "        \"shirt_number\": 11,\n",
    "        \"position\": \"Forward\"\n",
    "      },\n",
    "      {\n",
    "        \"name\": \"Aaron MOOY\",\n",
    "        \"captain\": False,\n",
    "        \"shirt_number\": 13,\n",
    "        \"position\": \"Midfield\"\n",
    "      },\n",
    "      {\n",
    "        \"name\": \"Mile JEDINAK\",\n",
    "        \"captain\": True,\n",
    "        \"shirt_number\": 15,\n",
    "        \"position\": \"Midfield\"\n",
    "      },\n",
    "      {\n",
    "        \"name\": \"Aziz BEHICH\",\n",
    "        \"captain\": False,\n",
    "        \"shirt_number\": 16,\n",
    "        \"position\": \"Defender\"\n",
    "      },\n",
    "      {\n",
    "        \"name\": \"Joshua RISDON\",\n",
    "        \"captain\": False,\n",
    "        \"shirt_number\": 19,\n",
    "        \"position\": \"Defender\"\n",
    "      },\n",
    "      {\n",
    "        \"name\": \"Trent SAINSBURY\",\n",
    "        \"captain\": False,\n",
    "        \"shirt_number\": 20,\n",
    "        \"position\": \"Defender\"\n",
    "      },\n",
    "      {\n",
    "        \"name\": \"Tom ROGIC\",\n",
    "        \"captain\": False,\n",
    "        \"shirt_number\": 23,\n",
    "        \"position\": \"Midfield\"\n",
    "      }\n",
    "    ]\n",
    "  }\n",
    "]"
   ]
  },
  {
   "cell_type": "code",
   "execution_count": 2,
   "metadata": {},
   "outputs": [
    {
     "data": {
      "text/plain": [
       "['France', 'Australia']"
      ]
     },
     "execution_count": 2,
     "metadata": {},
     "output_type": "execute_result"
    }
   ],
   "source": [
    "# iterate over the soccer_match list to create a new list with the name of the country for each team\n",
    "# code goes here\n",
    "\n",
    "countries = []\n",
    "for team in soccer_match:\n",
    "#     print(team[\"country\"]) \n",
    "    countries.append(team[\"country\"])\n",
    "        \n",
    "countries\n",
    "        "
   ]
  },
  {
   "cell_type": "code",
   "execution_count": 3,
   "metadata": {},
   "outputs": [
    {
     "data": {
      "text/plain": [
       "[['blue', 'white', 'red'], ['green', 'gold']]"
      ]
     },
     "execution_count": 3,
     "metadata": {},
     "output_type": "execute_result"
    }
   ],
   "source": [
    "# iterate over the soccer_match list to create a new list with the colors for each team\n",
    "# this should be only one list containing strings for each of the country's colors\n",
    "colors = []\n",
    "for team in soccer_match:\n",
    "    colors.append(team[\"colors\"])\n",
    "# code goes here\n",
    "\n",
    "colors"
   ]
  },
  {
   "cell_type": "code",
   "execution_count": 4,
   "metadata": {},
   "outputs": [
    {
     "data": {
      "text/plain": [
       "22"
      ]
     },
     "execution_count": 4,
     "metadata": {},
     "output_type": "execute_result"
    }
   ],
   "source": [
    "# iterate over the soccer_match list to create a new list with the players from each team\n",
    "# this should be only one list containing the dictionaries for each of the country's players\n",
    "\n",
    "# players = []\n",
    "# for team in soccer_match:\n",
    "#     players.append(team[\"players\"])\n",
    "\n",
    "# print(players[0][0])\n",
    "# #returning 2 lists\n",
    "\n",
    "\n",
    "players = []\n",
    "for team in soccer_match:\n",
    "    for player in team['players']:\n",
    "        players.append(player)\n",
    "#     pass\n",
    "# print(team_p[0][0])\n",
    "# players\n",
    "len(players)\n",
    "\n",
    "# players = []\n",
    "# # code goes here\n",
    "# for team in soccer_match:\n",
    "#     for player in team['players']:\n",
    "#         players.append(player)\n",
    "\n",
    "\n",
    "\n",
    "\n",
    "\n",
    "\n",
    "# players = []\n",
    "# teams = []\n",
    "# for x in soccer_match:\n",
    "#     teams.append(x['players'])\n",
    "# for y in teams:\n",
    "#     players.append([\"players\"])\n",
    "\n",
    "# team[1]"
   ]
  },
  {
   "cell_type": "code",
   "execution_count": 7,
   "metadata": {},
   "outputs": [
    {
     "name": "stdout",
     "output_type": "stream",
     "text": [
      "['Hugo LLORIS', 'Mile JEDINAK']\n"
     ]
    }
   ],
   "source": [
    "# iterate over the soccer_match list to create a new list with the captains from each team\n",
    "# this should be only one list containing the dictionaries for each of the country's captains\n",
    "captains = []\n",
    "for player in players:\n",
    "     if player[\"captain\"]==True:\n",
    "        captains.append(player[\"name\"])\n",
    "print(captains)\n",
    "\n",
    "\n",
    "\n",
    "\n",
    "# for programmer in programmers:\n",
    "#     for language in programmer['favorite_languages']:\n",
    "#         print(language)"
   ]
  },
  {
   "cell_type": "code",
   "execution_count": 5,
   "metadata": {},
   "outputs": [
    {
     "data": {
      "text/plain": [
       "[[{'name': 'Hugo LLORIS',\n",
       "   'captain': True,\n",
       "   'shirt_number': 1,\n",
       "   'position': 'Goalie'},\n",
       "  {'name': 'Benjamin PAVARD',\n",
       "   'captain': False,\n",
       "   'shirt_number': 2,\n",
       "   'position': 'Defender'},\n",
       "  {'name': 'Raphael VARANE',\n",
       "   'captain': False,\n",
       "   'shirt_number': 4,\n",
       "   'position': 'Defender'},\n",
       "  {'name': 'Samuel UMTITI',\n",
       "   'captain': False,\n",
       "   'shirt_number': 5,\n",
       "   'position': 'Defender'},\n",
       "  {'name': 'Paul POGBA',\n",
       "   'captain': False,\n",
       "   'shirt_number': 6,\n",
       "   'position': 'Midfield'},\n",
       "  {'name': 'Antoine GRIEZMANN',\n",
       "   'captain': False,\n",
       "   'shirt_number': 7,\n",
       "   'position': 'Forward'},\n",
       "  {'name': 'Kylian MBAPPE',\n",
       "   'captain': False,\n",
       "   'shirt_number': 10,\n",
       "   'position': 'Forward'},\n",
       "  {'name': 'Ousmane DEMBELE',\n",
       "   'captain': False,\n",
       "   'shirt_number': 11,\n",
       "   'position': 'Forward'},\n",
       "  {'name': 'Corentin TOLISSO',\n",
       "   'captain': False,\n",
       "   'shirt_number': 12,\n",
       "   'position': 'Midfield'},\n",
       "  {'name': 'Ngolo KANTE',\n",
       "   'captain': False,\n",
       "   'shirt_number': 13,\n",
       "   'position': 'Midfield'},\n",
       "  {'name': 'Lucas HERNANDEZ',\n",
       "   'captain': False,\n",
       "   'shirt_number': 21,\n",
       "   'position': 'Defender'}]]"
      ]
     },
     "execution_count": 5,
     "metadata": {},
     "output_type": "execute_result"
    }
   ],
   "source": [
    "# iterate over the soccer_match list to create a new list with the players from ONLY the home team\n",
    "# this should be only one list containing the dictionaries for each of the home team's players\n",
    "home_team_players = []\n",
    "for team in soccer_match:\n",
    "    if team[\"home_team\"]==True:\n",
    "        home_team_players.append(team[\"players\"])\n",
    "\n",
    "home_team_players\n",
    "# code goes here"
   ]
  },
  {
   "cell_type": "code",
   "execution_count": 15,
   "metadata": {},
   "outputs": [
    {
     "ename": "TypeError",
     "evalue": "list indices must be integers or slices, not str",
     "output_type": "error",
     "traceback": [
      "\u001b[0;31m\u001b[0m",
      "\u001b[0;31mTypeError\u001b[0mTraceback (most recent call last)",
      "\u001b[0;32m<ipython-input-15-e83ab35e8d82>\u001b[0m in \u001b[0;36m<module>\u001b[0;34m()\u001b[0m\n\u001b[1;32m     10\u001b[0m \u001b[0;34m\u001b[0m\u001b[0m\n\u001b[1;32m     11\u001b[0m \u001b[0;32mfor\u001b[0m \u001b[0mplayer\u001b[0m \u001b[0;32min\u001b[0m \u001b[0maway_team_players\u001b[0m\u001b[0;34m:\u001b[0m\u001b[0;34m\u001b[0m\u001b[0m\n\u001b[0;32m---> 12\u001b[0;31m     \u001b[0;32mif\u001b[0m \u001b[0mplayer\u001b[0m\u001b[0;34m[\u001b[0m\u001b[0;34m'position'\u001b[0m\u001b[0;34m]\u001b[0m\u001b[0;34m==\u001b[0m\u001b[0;34m'Forward'\u001b[0m\u001b[0;34m:\u001b[0m\u001b[0;34m\u001b[0m\u001b[0m\n\u001b[0m\u001b[1;32m     13\u001b[0m         \u001b[0mforwards\u001b[0m\u001b[0;34m.\u001b[0m\u001b[0mappend\u001b[0m\u001b[0;34m(\u001b[0m\u001b[0mplayer\u001b[0m\u001b[0;34m)\u001b[0m\u001b[0;34m\u001b[0m\u001b[0m\n\u001b[1;32m     14\u001b[0m \u001b[0;34m\u001b[0m\u001b[0m\n",
      "\u001b[0;31mTypeError\u001b[0m: list indices must be integers or slices, not str"
     ]
    }
   ],
   "source": [
    "# iterate over the soccer_match list to create a new list \n",
    "# with the players from ONLY the away team with the position of forward\n",
    "# this should be only one list containing the dictionaries for each of the selected players\n",
    "forwards = []\n",
    "\n",
    "away_team_players = []\n",
    "for team in soccer_match:\n",
    "    if team[\"home_team\"]==False:\n",
    "        away_team_players.append(team[\"players\"])\n",
    "\n",
    "for player in away_team_players:\n",
    "    if player['position']=='Forward':\n",
    "        forwards.append(player)\n",
    "       \n",
    "    \n",
    "    \n",
    "    \n",
    "    \n",
    "# for player in away_team_players:\n",
    "#     if player[\"position\"].value()=='Forward':\n",
    "#         forwards.append(player)\n",
    "#     if player['position': 'Forward']==True:\n",
    "#     print(player[0].values())\n",
    "#     print(player['position'])\n",
    "    # returns dict_values(['Mathew RYAN', False, 1, 'Goalie'])    \n",
    "#     for position in players:\n",
    "#         print(position)\n",
    "#         print(position)\n",
    "        \n",
    "#         pass\n",
    "# away_team_players\n",
    "# forwards\n",
    "\n",
    "# captains = []\n",
    "# for player in players:\n",
    "#      if player[\"captain\"]==True:\n",
    "#         captains.append(player[\"name\"])\n",
    "# print(captains)\n",
    "\n",
    "# for programmer in programmers:\n",
    "#     for language in programmer['favorite_languages']:\n",
    "#         print(language)"
   ]
  },
  {
   "cell_type": "code",
   "execution_count": null,
   "metadata": {},
   "outputs": [],
   "source": [
    "# iterate over the soccer_match list and find the player with the highest shirt_number\n",
    "# assign the player with the highst shirt_number to player_with_highest_num variable\n",
    "player_with_highest_num = None\n",
    "# code goes here"
   ]
  },
  {
   "cell_type": "code",
   "execution_count": 83,
   "metadata": {},
   "outputs": [
    {
     "name": "stdout",
     "output_type": "stream",
     "text": [
      "Hugo Lloris\n",
      "Benjamin Pavard\n",
      "Raphael Varane\n",
      "Samuel Umtiti\n",
      "Paul Pogba\n",
      "Antoine Griezmann\n",
      "Kylian Mbappe\n",
      "Ousmane Dembele\n",
      "Corentin Tolisso\n",
      "Ngolo Kante\n",
      "Lucas Hernandez\n",
      "Mathew Ryan\n",
      "Mark Milligan\n",
      "Mathew Leckie\n",
      "Robbie Kruse\n",
      "Andrew Nabbout\n",
      "Aaron Mooy\n",
      "Mile Jedinak\n",
      "Aziz Behich\n",
      "Joshua Risdon\n",
      "Trent Sainsbury\n",
      "Tom Rogic\n"
     ]
    }
   ],
   "source": [
    "# as we can see, the players all have their last names in all caps, as if they are being yelled\n",
    "# we want a list of all the names of the players in this match\n",
    "# but we want both first and last names to be formatted in title case\n",
    "player_names = []\n",
    "for player in players:\n",
    "    print(player['name'].title())\n",
    "# code goes here"
   ]
  },
  {
   "cell_type": "markdown",
   "metadata": {},
   "source": [
    "## Summary"
   ]
  },
  {
   "cell_type": "markdown",
   "metadata": {},
   "source": [
    "In this lab, we practiced using nested loops to iterate through a nested data structure using data from a soccer match. Nested data structures can be quite complicated and it can become difficult to access more nested data. With nested loops, we are able to dynamically access this nested data and work with it as we would with a flatter data structure. It is important to think about the structure of the data before and while you're working so you know exactly what data you are working with at each level."
   ]
  }
 ],
 "metadata": {
  "kernelspec": {
   "display_name": "Python 3",
   "language": "python",
   "name": "python3"
  },
  "language_info": {
   "codemirror_mode": {
    "name": "ipython",
    "version": 3
   },
   "file_extension": ".py",
   "mimetype": "text/x-python",
   "name": "python",
   "nbconvert_exporter": "python",
   "pygments_lexer": "ipython3",
   "version": "3.6.6"
  }
 },
 "nbformat": 4,
 "nbformat_minor": 2
}
